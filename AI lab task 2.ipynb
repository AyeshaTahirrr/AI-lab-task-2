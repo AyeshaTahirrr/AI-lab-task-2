{
 "cells": [
  {
   "cell_type": "code",
   "execution_count": null,
   "id": "4f3a258b-6f45-4882-b84f-e067c76cb8d6",
   "metadata": {},
   "outputs": [],
   "source": []
  }
 ],
 "metadata": {
  "kernelspec": {
   "display_name": "",
   "name": ""
  },
  "language_info": {
   "name": ""
  }
 },
 "nbformat": 4,
 "nbformat_minor": 5
}
